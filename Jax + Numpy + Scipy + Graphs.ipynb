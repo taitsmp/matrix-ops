{
 "cells": [
  {
   "cell_type": "markdown",
   "metadata": {},
   "source": [
    "## About this notebook\n",
    "\n",
    "I am experimenting with various graph and matrix libraries on the CPU and GPU.  For small graphs (less than 50k nodes) my theories are\n",
    "\n",
    "* Dense operations will be faster\n",
    "* Most/all sampling and graph distance metrics can be handled as matrix operations. \n",
    "  - this will cause signifcant speed up over implementations with loops\n",
    "* GPU libraries, when you stick with matrix operations will be faster\n",
    "  - this includes slicing\n",
    "  \n",
    "I'm unsure about the following\n",
    "\n",
    "* GPU based operations are not finicky.  \n",
    "* Libraries are easy to use. \n",
    "  - JAX is an easy-to-work-with replacement for numpy\n",
    "  - cuGraph is an easy-to-work-with replacement for networkX"
   ]
  },
  {
   "cell_type": "code",
   "execution_count": 2,
   "metadata": {},
   "outputs": [],
   "source": [
    "import trax\n",
    "import numpy as np\n",
    "import networkx as nx\n"
   ]
  },
  {
   "cell_type": "code",
   "execution_count": 3,
   "metadata": {},
   "outputs": [],
   "source": [
    "\n",
    "#We'll just use trax to get to jax\n",
    "trax.fastmath.use_backend('numpy')\n",
    "from trax.fastmath import numpy as jnp\n"
   ]
  },
  {
   "cell_type": "markdown",
   "metadata": {},
   "source": [
    "## Generate Test Graphs\n",
    "\n",
    "Convert them to matrices for later"
   ]
  },
  {
   "cell_type": "code",
   "execution_count": 6,
   "metadata": {},
   "outputs": [],
   "source": [
    "from networkx.generators.random_graphs import powerlaw_cluster_graph"
   ]
  },
  {
   "cell_type": "code",
   "execution_count": 7,
   "metadata": {},
   "outputs": [],
   "source": [
    "G = powerlaw_cluster_graph(20000, 2, 0.2)"
   ]
  },
  {
   "cell_type": "code",
   "execution_count": 21,
   "metadata": {},
   "outputs": [],
   "source": [
    "spl_gen = nx.all_pairs_shortest_path_length(G)"
   ]
  },
  {
   "cell_type": "code",
   "execution_count": 22,
   "metadata": {},
   "outputs": [],
   "source": [
    "spl_dict = list(spl_gen)"
   ]
  },
  {
   "cell_type": "code",
   "execution_count": 20,
   "metadata": {},
   "outputs": [
    {
     "data": {
      "text/plain": [
       "0"
      ]
     },
     "execution_count": 20,
     "metadata": {},
     "output_type": "execute_result"
    }
   ],
   "source": [
    "len(spl_dict)"
   ]
  },
  {
   "cell_type": "code",
   "execution_count": 23,
   "metadata": {},
   "outputs": [],
   "source": [
    "g_adj_mat = nx.adjacency_matrix(G)"
   ]
  },
  {
   "cell_type": "markdown",
   "metadata": {},
   "source": [
    "can you calculate a \"dense\" graph matrix from G?\n",
    "\n",
    "https://networkx.org/documentation/stable//reference/generated/networkx.linalg.graphmatrix.adjacency_matrix.html"
   ]
  },
  {
   "cell_type": "markdown",
   "metadata": {},
   "source": [
    "## Calculate Derived Matrices\n",
    "\n",
    "* Shortest Path\n",
    "* Binning Matrix"
   ]
  },
  {
   "cell_type": "code",
   "execution_count": 4,
   "metadata": {},
   "outputs": [],
   "source": [
    "from scipy.sparse.csgraph import shortest_path\n",
    "from scipy.sparse import csr_matrix\n"
   ]
  },
  {
   "cell_type": "code",
   "execution_count": 36,
   "metadata": {},
   "outputs": [],
   "source": [
    "\n",
    "def simple_bin_matrix(adjMat, oneHot=True):\n",
    "    '''Construct a bin matrix for test purposes. \n",
    "    \n",
    "    All nodes with the same degree end up in the same bin.\n",
    "    \n",
    "    Parameters\n",
    "    ----------\n",
    "    adjMat (ndarray): a Nodes x Nodes adjacency matrix (dense form)\n",
    "    onHot (bool): should the results be returned \n",
    "    \n",
    "    Returns\n",
    "    ------\n",
    "    ndarray: A Bins x Nodes 0,1 matrix if OneHot is True or a 1 x Nodes matrix where each entry is the degree of the node if oneHot is False.\n",
    "    '''\n",
    "    degrees      = np.sum(adjMat, axis=1)\n",
    "    num_nodes, _ = adjMat.shape\n",
    "\n",
    "    #TODO: refactor oneHot to a fuction. \n",
    "    if oneHot:\n",
    "        out = np.zeros((num_nodes, np.max(degrees) + 1))\n",
    "        out[np.arange(degrees.size), degrees] = 1\n",
    "        return out.T\n",
    "    else:\n",
    "        return degrees\n",
    "\n"
   ]
  },
  {
   "cell_type": "code",
   "execution_count": 33,
   "metadata": {},
   "outputs": [],
   "source": [
    "g_csr = csr_matrix(g_adj_mat)"
   ]
  },
  {
   "cell_type": "code",
   "execution_count": 34,
   "metadata": {},
   "outputs": [
    {
     "name": "stdout",
     "output_type": "stream",
     "text": [
      "CPU times: user 3min 29s, sys: 529 ms, total: 3min 29s\n",
      "Wall time: 3min 29s\n"
     ]
    }
   ],
   "source": [
    "%time spm = shortest_path(g_csr, directed=False)"
   ]
  },
  {
   "cell_type": "code",
   "execution_count": 37,
   "metadata": {},
   "outputs": [
    {
     "name": "stdout",
     "output_type": "stream",
     "text": [
      "CPU times: user 1.9 s, sys: 27.9 ms, total: 1.93 s\n",
      "Wall time: 1.93 s\n"
     ]
    }
   ],
   "source": [
    "%time bp  = simple_bin_matrix(g_adj_mat)"
   ]
  },
  {
   "cell_type": "code",
   "execution_count": 38,
   "metadata": {},
   "outputs": [
    {
     "data": {
      "text/plain": [
       "(20000, 609)"
      ]
     },
     "execution_count": 38,
     "metadata": {},
     "output_type": "execute_result"
    }
   ],
   "source": [
    "bp.shape"
   ]
  },
  {
   "cell_type": "markdown",
   "metadata": {},
   "source": [
    "## Next Steps\n",
    "\n",
    "* consider plotting to see which bins have the most items.\n",
    "* consider writing a function that\n",
    "  - picks some random nodes\n",
    "  - find the bins associated with those nodes\n",
    "  - comes up with selection list of bins and counts\n",
    " * migrate a selectio matrix in place. \n",
    "* bonus: try cugraph for shortest path calculation (probably not worth it).\n",
    "\n"
   ]
  },
  {
   "cell_type": "code",
   "execution_count": null,
   "metadata": {},
   "outputs": [],
   "source": [
    "def gen_fake_sample_request(per_sample=20):\n",
    "    pass\n",
    "\n",
    "def gen_sample_like(nodeList, binMatrix):\n",
    "    '''generate a sample by selecting random nodes that are mapped to the same bins as nodes in `nodelist`\n",
    "    \n",
    "    Parameters\n",
    "    ----------\n",
    "    nodeList (ndarray): 1d list of node indices of nodes to match against\n",
    "    binList (ndarray): 2d matrix of  of node-bin-mapping. Each row is one-hot encoded matrix selecting which bin the node lives in.\n",
    "    \n",
    "    \n",
    "    Output\n",
    "    ------\n",
    "    out - 1d array - sample that has nodes of the same degree as the sample represented by nodelist\n",
    "    \n",
    "    '''\n",
    "\n",
    "    whichBins = gen_sample_request(nodeList, binMatrix)\n",
    "    #TODO: left off here. this function was written in the foodome NMP Example Matrix notebook. \n",
    "    #the binIds and counts_per_bin seem kind of weird. I can still make this work. convert to more dense form or just use arange for binIds and change the function impl to handle zeros.\n",
    "    \n",
    "    gen_samples_from_multiple_bins2(binMatrix, binIds, counts_per_bin, 1):\n",
    "    \n",
    "def gen_sample_request(nodelist, binMatrix):\n",
    "    '''Generate an array (one cell for each bin) that tells you how many nodes from each bin you will select to create your sample. \n",
    "    \n",
    "    Parameters\n",
    "    ----------\n",
    "    \n",
    "    Notes: you could implement this with onehot list of bins for each node then sum down the colum axis. \n",
    "    \n",
    "    '''\n",
    "    \n",
    "    selectedBins = binMatrix[nodeList, :]\n",
    "    return np.sum(selectedBins, axis=-1)\n"
   ]
  },
  {
   "cell_type": "code",
   "execution_count": 42,
   "metadata": {},
   "outputs": [],
   "source": [
    "a = np.array([[0,1,0,0],\n",
    "              [0,1,0,0],\n",
    "              [0,0,0,1]])\n",
    "ad = np.array([1,1,3])\n",
    "\n"
   ]
  },
  {
   "cell_type": "code",
   "execution_count": 43,
   "metadata": {},
   "outputs": [
    {
     "data": {
      "text/plain": [
       "array([[0, 0, 0, 1],\n",
       "       [0, 1, 0, 0]])"
      ]
     },
     "execution_count": 43,
     "metadata": {},
     "output_type": "execute_result"
    }
   ],
   "source": [
    "a[[2,1],:]"
   ]
  },
  {
   "cell_type": "code",
   "execution_count": null,
   "metadata": {},
   "outputs": [],
   "source": []
  }
 ],
 "metadata": {
  "kernelspec": {
   "display_name": "trax-ml",
   "language": "python",
   "name": "trax"
  },
  "language_info": {
   "codemirror_mode": {
    "name": "ipython",
    "version": 3
   },
   "file_extension": ".py",
   "mimetype": "text/x-python",
   "name": "python",
   "nbconvert_exporter": "python",
   "pygments_lexer": "ipython3",
   "version": "3.8.5"
  }
 },
 "nbformat": 4,
 "nbformat_minor": 4
}
