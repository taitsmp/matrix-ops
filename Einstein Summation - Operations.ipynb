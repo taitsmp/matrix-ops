{
 "cells": [
  {
   "cell_type": "code",
   "execution_count": 2,
   "metadata": {},
   "outputs": [],
   "source": [
    "from einops import rearrange, reduce, asnumpy, parse_shape\n",
    "import numpy as np"
   ]
  },
  {
   "cell_type": "markdown",
   "metadata": {},
   "source": [
    "### einsum rules\n",
    "\n",
    "https://numpy.org/doc/stable/reference/generated/numpy.einsum.html\n",
    "\n",
    "* The subscripts string is a comma-separated list of subscript labels, where each label refers to a dimension of the corresponding operand. \n",
    "* Whenever a label is repeated it is summed.\n",
    "* When a label is not repeated it is not summed.\n",
    "* NumPy-style broadcasting is done by adding an ellipsis to the left of each term, like `np.einsum('...ii->...i', a)`\n",
    "* It's possible to have nothing on the RHS of the `->` in explicit mode.\n",
    "\n",
    "### Questions\n",
    "\n",
    "* what happens to an index that is not repeated and not part of the explicit mode output? "
   ]
  },
  {
   "cell_type": "code",
   "execution_count": 4,
   "metadata": {},
   "outputs": [
    {
     "name": "stdout",
     "output_type": "stream",
     "text": [
      "[[[ 0  1]\n",
      "  [ 2  3]\n",
      "  [ 4  5]\n",
      "  [ 6  7]]\n",
      "\n",
      " [[ 8  9]\n",
      "  [10 11]\n",
      "  [12 13]\n",
      "  [14 15]]\n",
      "\n",
      " [[16 17]\n",
      "  [18 19]\n",
      "  [20 21]\n",
      "  [22 23]]]\n",
      "[[[24 25]\n",
      "  [26 27]\n",
      "  [28 29]]\n",
      "\n",
      " [[30 31]\n",
      "  [32 33]\n",
      "  [34 35]]\n",
      "\n",
      " [[36 37]\n",
      "  [38 39]\n",
      "  [40 41]]\n",
      "\n",
      " [[42 43]\n",
      "  [44 45]\n",
      "  [46 47]]]\n"
     ]
    }
   ],
   "source": [
    "x = np.arange(24).reshape(3,4,2); print(x)\n",
    "y = np.arange(24,48).reshape(4,3,2); print(y)"
   ]
  },
  {
   "cell_type": "code",
   "execution_count": 5,
   "metadata": {},
   "outputs": [
    {
     "data": {
      "text/plain": [
       "array([[1044, 1072],\n",
       "       [3340, 3432],\n",
       "       [5892, 6048]])"
      ]
     },
     "execution_count": 5,
     "metadata": {},
     "output_type": "execute_result"
    }
   ],
   "source": [
    "np.einsum('ijk,jih->ih', x,y) #sum over two indices i,j. What happens to index k? this is nothing like matrix mult. "
   ]
  },
  {
   "cell_type": "code",
   "execution_count": 14,
   "metadata": {},
   "outputs": [
    {
     "name": "stdout",
     "output_type": "stream",
     "text": [
      "[[ 0  1]\n",
      " [ 8  9]\n",
      " [16 17]]\n",
      "[[24 25]\n",
      " [26 27]\n",
      " [28 29]]\n"
     ]
    },
    {
     "data": {
      "text/plain": [
       "1417"
      ]
     },
     "execution_count": 14,
     "metadata": {},
     "output_type": "execute_result"
    }
   ],
   "source": [
    "print(x[:,0])\n",
    "print(y[0])\n",
    "\n",
    "np.inner(x[:,0].reshape(-1), y[0].reshape(-1)) #would have hoped this would be 1044 as above. "
   ]
  },
  {
   "cell_type": "code",
   "execution_count": 6,
   "metadata": {},
   "outputs": [
    {
     "data": {
      "text/plain": [
       "array([[ 456,  604],\n",
       "       [1600, 1788],\n",
       "       [2872, 3100]])"
      ]
     },
     "execution_count": 6,
     "metadata": {},
     "output_type": "execute_result"
    }
   ],
   "source": [
    "np.einsum('ijk,jik->ik', x,y)  # k is repeated. how does this change the computation? "
   ]
  },
  {
   "cell_type": "code",
   "execution_count": 6,
   "metadata": {},
   "outputs": [
    {
     "name": "stdout",
     "output_type": "stream",
     "text": [
      "here comes matmul\n",
      " [[[ 28  34]\n",
      "  [ 76  98]]\n",
      "\n",
      " [[428 466]\n",
      "  [604 658]]]\n",
      "here comes einsum 1\n",
      " [[[ 28  34]\n",
      "  [ 76  98]]\n",
      "\n",
      " [[428 466]\n",
      "  [604 658]]]\n",
      "here comes einsum 2\n",
      " [[[ 28  34]\n",
      "  [ 76  98]]\n",
      "\n",
      " [[428 466]\n",
      "  [604 658]]]\n"
     ]
    }
   ],
   "source": [
    "#matmul 3D\n",
    "\n",
    "a  = np.arange(2 * 2 * 4).reshape((2, 2, 4))\n",
    "b  = np.arange(2 * 2 * 4).reshape((2, 4, 2))\n",
    "mm = np.matmul(a,b); print(\"here comes matmul\\n\", mm)\n",
    "\n",
    "print(\"here comes einsum 1\\n\", np.einsum('...ij,...jk->...ik', a,b)) #works\n",
    "\n",
    "print(\"here comes einsum 2\\n\", np.einsum('ijk,ikh->ijh', a,b)) #works...why do I repeat the 'i' index for both operands? Repeat label should be a summation."
   ]
  },
  {
   "cell_type": "code",
   "execution_count": null,
   "metadata": {},
   "outputs": [],
   "source": []
  }
 ],
 "metadata": {
  "kernelspec": {
   "display_name": "fastai-v2",
   "language": "python",
   "name": "fastai-v2"
  },
  "language_info": {
   "codemirror_mode": {
    "name": "ipython",
    "version": 3
   },
   "file_extension": ".py",
   "mimetype": "text/x-python",
   "name": "python",
   "nbconvert_exporter": "python",
   "pygments_lexer": "ipython3",
   "version": "3.8.5"
  }
 },
 "nbformat": 4,
 "nbformat_minor": 4
}
